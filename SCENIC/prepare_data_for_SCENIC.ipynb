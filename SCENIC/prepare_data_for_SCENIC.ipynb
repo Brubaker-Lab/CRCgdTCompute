{
 "cells": [
  {
   "cell_type": "code",
   "execution_count": 1,
   "metadata": {},
   "outputs": [
    {
     "name": "stderr",
     "output_type": "stream",
     "text": [
      "c:\\Users\\16220\\anaconda3\\envs\\pyscenic\\lib\\site-packages\\tqdm\\auto.py:21: TqdmWarning: IProgress not found. Please update jupyter and ipywidgets. See https://ipywidgets.readthedocs.io/en/stable/user_install.html\n",
      "  from .autonotebook import tqdm as notebook_tqdm\n"
     ]
    }
   ],
   "source": [
    "import os\n",
    "import numpy as np\n",
    "import pandas as pd\n",
    "import scanpy as sc\n",
    "import loompy as lp\n",
    "import json\n",
    "import zlib\n",
    "import base64\n",
    "import umap\n",
    "from pyscenic.plotting import plot_binarization\n",
    "from pyscenic.export import add_scenic_metadata\n",
    "# from pyscenic.cli.utils import load_signatures\n",
    "import matplotlib as mpl\n",
    "import matplotlib.pyplot as plt\n",
    "import seaborn as sns"
   ]
  },
  {
   "cell_type": "code",
   "execution_count": 2,
   "metadata": {},
   "outputs": [],
   "source": [
    "adata = sc.read_h5ad(r\"F:\\gdT_aim2\\organized_data\\unimputed\\gdT_integrated.h5ad\")"
   ]
  },
  {
   "cell_type": "code",
   "execution_count": 3,
   "metadata": {},
   "outputs": [],
   "source": [
    "adata_cancer_only = adata[adata.obs['tissue'] == 'Carcinoma']"
   ]
  },
  {
   "cell_type": "code",
   "execution_count": null,
   "metadata": {},
   "outputs": [],
   "source": [
    "# Read in adata first - gdT integrated\n",
    "f_tfs = r\"F:\\gdT_aim2\\SCENIC\\SCENIC_database\\hs_hgnc_curated_tfs.txt\"\n",
    "f_loom_path_scenic = r\"F:\\gdT_aim2\\organized_data\\unimputed\\gdT_cancer_only.loom\"\n",
    "import loompy as lp\n",
    "row_attrs = {\n",
    "    \"Gene\": np.array(adata_cancer_only.var_names) ,\n",
    "}\n",
    "col_attrs = {\n",
    "    \"CellID\": np.array(adata_cancer_only.obs_names) ,\n",
    "    \"nGene\": np.array( np.sum(adata_cancer_only.layers['counts'].transpose()>0 , axis=0)).flatten() ,\n",
    "    \"nUMI\": np.array( np.sum(adata_cancer_only.layers['counts'].transpose() , axis=0)).flatten() ,\n",
    "}\n",
    "lp.create( f_loom_path_scenic, adata_cancer_only.layers['counts'].transpose(), row_attrs, col_attrs)"
   ]
  },
  {
   "cell_type": "code",
   "execution_count": null,
   "metadata": {},
   "outputs": [],
   "source": [
    "# Read in adata first - gdT integrated\n",
    "f_tfs = r\"F:\\gdT_aim2\\SCENIC\\SCENIC_database\\hs_hgnc_curated_tfs.txt\"\n",
    "f_loom_path_scenic = r\"F:\\gdT_aim2\\organized_data\\unimputed\\gdT_loom.loom\"\n",
    "import loompy as lp\n",
    "row_attrs = {\n",
    "    \"Gene\": np.array(adata.var_names) ,\n",
    "}\n",
    "col_attrs = {\n",
    "    \"CellID\": np.array(adata.obs_names) ,\n",
    "    \"nGene\": np.array( np.sum(adata.layers['counts'].transpose()>0 , axis=0)).flatten() ,\n",
    "    \"nUMI\": np.array( np.sum(adata.layers['counts'].transpose() , axis=0)).flatten() ,\n",
    "}\n",
    "lp.create( f_loom_path_scenic, adata.layers['counts'].transpose(), row_attrs, col_attrs)"
   ]
  }
 ],
 "metadata": {
  "kernelspec": {
   "display_name": "pyscenic",
   "language": "python",
   "name": "python3"
  },
  "language_info": {
   "codemirror_mode": {
    "name": "ipython",
    "version": 3
   },
   "file_extension": ".py",
   "mimetype": "text/x-python",
   "name": "python",
   "nbconvert_exporter": "python",
   "pygments_lexer": "ipython3",
   "version": "3.10.14"
  }
 },
 "nbformat": 4,
 "nbformat_minor": 2
}
